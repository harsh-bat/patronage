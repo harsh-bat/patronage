{
 "cells": [
  {
   "cell_type": "code",
   "execution_count": 1,
   "metadata": {},
   "outputs": [],
   "source": [
    "import numpy as np\n",
    "import pandas as pd"
   ]
  },
  {
   "cell_type": "code",
   "execution_count": 29,
   "metadata": {},
   "outputs": [],
   "source": [
    "import plotly as py\n",
    "import plotly.graph_objs as go"
   ]
  },
  {
   "cell_type": "code",
   "execution_count": 4,
   "metadata": {},
   "outputs": [],
   "source": [
    "before_bjp = pd.read_csv('old_bjp_loc.csv')\n",
    "after_bjp = pd.read_csv('new_bjp_loc.csv')\n",
    "before_ncp = pd.read_csv('old_ncp_loc.csv')\n",
    "after_ncp = pd.read_csv('new_ncp_loc.csv')"
   ]
  },
  {
   "cell_type": "code",
   "execution_count": 11,
   "metadata": {},
   "outputs": [],
   "source": [
    "before_bjp_pie = pd.DataFrame(before_bjp.groupby(['Metro','sentiment']).sum()['retweets'] / before_bjp.groupby(['Metro']).sum()['retweets'] ) * 100"
   ]
  },
  {
   "cell_type": "code",
   "execution_count": 14,
   "metadata": {},
   "outputs": [],
   "source": [
    "before_bjp_pie = before_bjp_pie.reset_index()"
   ]
  },
  {
   "cell_type": "code",
   "execution_count": 17,
   "metadata": {},
   "outputs": [],
   "source": [
    "before_bjp_pie.to_csv('before_bjp_pie.csv', index=False)"
   ]
  },
  {
   "cell_type": "code",
   "execution_count": 21,
   "metadata": {},
   "outputs": [
    {
     "data": {
      "text/plain": [
       "array(['Bengaluru', 'Delhi', 'Hyderabad', 'Kolkata', 'Mumbai'],\n",
       "      dtype=object)"
      ]
     },
     "execution_count": 21,
     "metadata": {},
     "output_type": "execute_result"
    }
   ],
   "source": [
    "for metro in before_bjp_pie['Metro'].unique():\n",
    "    "
   ]
  },
  {
   "cell_type": "code",
   "execution_count": 22,
   "metadata": {},
   "outputs": [
    {
     "data": {
      "text/html": [
       "<div>\n",
       "<style scoped>\n",
       "    .dataframe tbody tr th:only-of-type {\n",
       "        vertical-align: middle;\n",
       "    }\n",
       "\n",
       "    .dataframe tbody tr th {\n",
       "        vertical-align: top;\n",
       "    }\n",
       "\n",
       "    .dataframe thead th {\n",
       "        text-align: right;\n",
       "    }\n",
       "</style>\n",
       "<table border=\"1\" class=\"dataframe\">\n",
       "  <thead>\n",
       "    <tr style=\"text-align: right;\">\n",
       "      <th></th>\n",
       "      <th>Metro</th>\n",
       "      <th>sentiment</th>\n",
       "      <th>retweets</th>\n",
       "    </tr>\n",
       "  </thead>\n",
       "  <tbody>\n",
       "    <tr>\n",
       "      <th>12</th>\n",
       "      <td>Mumbai</td>\n",
       "      <td>negative</td>\n",
       "      <td>20.783557</td>\n",
       "    </tr>\n",
       "    <tr>\n",
       "      <th>13</th>\n",
       "      <td>Mumbai</td>\n",
       "      <td>neutral</td>\n",
       "      <td>43.385199</td>\n",
       "    </tr>\n",
       "    <tr>\n",
       "      <th>14</th>\n",
       "      <td>Mumbai</td>\n",
       "      <td>positive</td>\n",
       "      <td>35.831245</td>\n",
       "    </tr>\n",
       "  </tbody>\n",
       "</table>\n",
       "</div>"
      ],
      "text/plain": [
       "     Metro sentiment   retweets\n",
       "12  Mumbai  negative  20.783557\n",
       "13  Mumbai   neutral  43.385199\n",
       "14  Mumbai  positive  35.831245"
      ]
     },
     "execution_count": 22,
     "metadata": {},
     "output_type": "execute_result"
    }
   ],
   "source": [
    "before_bjp_pie[before_bjp_pie['Metro']=='Mumbai']"
   ]
  },
  {
   "cell_type": "code",
   "execution_count": 38,
   "metadata": {},
   "outputs": [
    {
     "data": {
      "text/plain": [
       "'<div id=\"43181f8f-7833-45f0-8a24-72d26fc198be\" style=\"height: 100%; width: 100%;\" class=\"plotly-graph-div\"></div><script type=\"text/javascript\">window.PLOTLYENV=window.PLOTLYENV || {};window.PLOTLYENV.BASE_URL=\"https://plot.ly\";Plotly.newPlot(\"43181f8f-7833-45f0-8a24-72d26fc198be\", [{\"type\": \"pie\", \"labels\": [\"Negative\", \"Neutral\", \"Positive\"], \"values\": [20.78355664579662, 43.38519850160732, 35.831244852596065]}], {}, {\"showLink\": false, \"linkText\": \"Export to plot.ly\"})</script>'"
      ]
     },
     "execution_count": 38,
     "metadata": {},
     "output_type": "execute_result"
    }
   ],
   "source": [
    "values = list(before_bjp_pie[before_bjp_pie['Metro']=='Mumbai'].retweets)\n",
    "labels = [x.capitalize() for x in list(before_bjp_pie[before_bjp_pie['Metro']=='Mumbai'].sentiment)]\n",
    "trace = go.Pie(labels=labels, values=values)\n",
    "py.offline.plot([trace], include_plotlyjs=False, output_type='div', show_link=False)"
   ]
  },
  {
   "cell_type": "code",
   "execution_count": 74,
   "metadata": {},
   "outputs": [
    {
     "name": "stdout",
     "output_type": "stream",
     "text": [
      "<div id=\"f7611779-2a16-4d26-b614-be40445b3486\" style=\"height: 100%; width: 100%;\" class=\"plotly-graph-div\"></div><script type=\"text/javascript\">window.PLOTLYENV=window.PLOTLYENV || {};window.PLOTLYENV.BASE_URL=\"https://plot.ly\";Plotly.newPlot(\"f7611779-2a16-4d26-b614-be40445b3486\", [{\"values\": [14.2165398931866, 48.63505421589254, 37.14840589092086], \"labels\": [\"Negative\", \"Neutral\", \"Positive\"], \"hoverinfo\": \"label+percent+name\", \"domain\": {\"x\": [0, 0.48]}, \"hole\": 0.4, \"type\": \"pie\", \"name\": \"Before\"}, {\"values\": [7.182149114230578, 71.94632251132272, 20.8715283744467], \"labels\": [\"Negative\", \"Neutral\", \"Positive\"], \"textposition\": \"inside\", \"domain\": {\"x\": [0.52, 1]}, \"hoverinfo\": \"label+percent+name\", \"hole\": 0.4, \"type\": \"pie\", \"name\": \"After\"}], {\"title\": \"Bengaluru BJP Influence\", \"annotations\": [{\"font\": {\"size\": 15}, \"showarrow\": false, \"text\": \"Before\", \"x\": 0.2, \"y\": 0.5}, {\"font\": {\"size\": 15}, \"showarrow\": false, \"text\": \"After\", \"x\": 0.8, \"y\": 0.5}]}, {\"showLink\": false, \"linkText\": \"Export to plot.ly\"})</script>\n",
      "<div id=\"3f921ccc-10ec-4bcf-a5e9-053e5a9934ba\" style=\"height: 100%; width: 100%;\" class=\"plotly-graph-div\"></div><script type=\"text/javascript\">window.PLOTLYENV=window.PLOTLYENV || {};window.PLOTLYENV.BASE_URL=\"https://plot.ly\";Plotly.newPlot(\"3f921ccc-10ec-4bcf-a5e9-053e5a9934ba\", [{\"values\": [9.12125827073815, 61.02406580453095, 29.854675924730905], \"labels\": [\"Negative\", \"Neutral\", \"Positive\"], \"hoverinfo\": \"label+percent+name\", \"domain\": {\"x\": [0, 0.48]}, \"hole\": 0.4, \"type\": \"pie\", \"name\": \"Before\"}, {\"values\": [7.182149114230578, 71.94632251132272, 20.8715283744467], \"labels\": [\"Negative\", \"Neutral\", \"Positive\"], \"textposition\": \"inside\", \"domain\": {\"x\": [0.52, 1]}, \"hoverinfo\": \"label+percent+name\", \"hole\": 0.4, \"type\": \"pie\", \"name\": \"After\"}], {\"title\": \"Delhi BJP Influence\", \"annotations\": [{\"font\": {\"size\": 15}, \"showarrow\": false, \"text\": \"Before\", \"x\": 0.2, \"y\": 0.5}, {\"font\": {\"size\": 15}, \"showarrow\": false, \"text\": \"After\", \"x\": 0.8, \"y\": 0.5}]}, {\"showLink\": false, \"linkText\": \"Export to plot.ly\"})</script>\n",
      "<div id=\"f896ca48-3fd5-40e4-ac78-30cca03acd27\" style=\"height: 100%; width: 100%;\" class=\"plotly-graph-div\"></div><script type=\"text/javascript\">window.PLOTLYENV=window.PLOTLYENV || {};window.PLOTLYENV.BASE_URL=\"https://plot.ly\";Plotly.newPlot(\"f896ca48-3fd5-40e4-ac78-30cca03acd27\", [{\"values\": [13.315647956978921, 54.344120612666245, 32.34023143035483], \"labels\": [\"Negative\", \"Neutral\", \"Positive\"], \"hoverinfo\": \"label+percent+name\", \"domain\": {\"x\": [0, 0.48]}, \"hole\": 0.4, \"type\": \"pie\", \"name\": \"Before\"}, {\"values\": [7.182149114230578, 71.94632251132272, 20.8715283744467], \"labels\": [\"Negative\", \"Neutral\", \"Positive\"], \"textposition\": \"inside\", \"domain\": {\"x\": [0.52, 1]}, \"hoverinfo\": \"label+percent+name\", \"hole\": 0.4, \"type\": \"pie\", \"name\": \"After\"}], {\"title\": \"Hyderabad BJP Influence\", \"annotations\": [{\"font\": {\"size\": 15}, \"showarrow\": false, \"text\": \"Before\", \"x\": 0.2, \"y\": 0.5}, {\"font\": {\"size\": 15}, \"showarrow\": false, \"text\": \"After\", \"x\": 0.8, \"y\": 0.5}]}, {\"showLink\": false, \"linkText\": \"Export to plot.ly\"})</script>\n",
      "<div id=\"b7a76a53-e33e-444b-a2b8-994d0380d47b\" style=\"height: 100%; width: 100%;\" class=\"plotly-graph-div\"></div><script type=\"text/javascript\">window.PLOTLYENV=window.PLOTLYENV || {};window.PLOTLYENV.BASE_URL=\"https://plot.ly\";Plotly.newPlot(\"b7a76a53-e33e-444b-a2b8-994d0380d47b\", [{\"values\": [11.26526492022848, 45.50792791018318, 43.22680716958834], \"labels\": [\"Negative\", \"Neutral\", \"Positive\"], \"hoverinfo\": \"label+percent+name\", \"domain\": {\"x\": [0, 0.48]}, \"hole\": 0.4, \"type\": \"pie\", \"name\": \"Before\"}, {\"values\": [7.182149114230578, 71.94632251132272, 20.8715283744467], \"labels\": [\"Negative\", \"Neutral\", \"Positive\"], \"textposition\": \"inside\", \"domain\": {\"x\": [0.52, 1]}, \"hoverinfo\": \"label+percent+name\", \"hole\": 0.4, \"type\": \"pie\", \"name\": \"After\"}], {\"title\": \"Kolkata BJP Influence\", \"annotations\": [{\"font\": {\"size\": 15}, \"showarrow\": false, \"text\": \"Before\", \"x\": 0.2, \"y\": 0.5}, {\"font\": {\"size\": 15}, \"showarrow\": false, \"text\": \"After\", \"x\": 0.8, \"y\": 0.5}]}, {\"showLink\": false, \"linkText\": \"Export to plot.ly\"})</script>\n",
      "<div id=\"7d984e06-6b3e-4bc3-bad6-978d90cabcb5\" style=\"height: 100%; width: 100%;\" class=\"plotly-graph-div\"></div><script type=\"text/javascript\">window.PLOTLYENV=window.PLOTLYENV || {};window.PLOTLYENV.BASE_URL=\"https://plot.ly\";Plotly.newPlot(\"7d984e06-6b3e-4bc3-bad6-978d90cabcb5\", [{\"values\": [20.78355664579662, 43.38519850160732, 35.831244852596065], \"labels\": [\"Negative\", \"Neutral\", \"Positive\"], \"hoverinfo\": \"label+percent+name\", \"domain\": {\"x\": [0, 0.48]}, \"hole\": 0.4, \"type\": \"pie\", \"name\": \"Before\"}, {\"values\": [7.182149114230578, 71.94632251132272, 20.8715283744467], \"labels\": [\"Negative\", \"Neutral\", \"Positive\"], \"textposition\": \"inside\", \"domain\": {\"x\": [0.52, 1]}, \"hoverinfo\": \"label+percent+name\", \"hole\": 0.4, \"type\": \"pie\", \"name\": \"After\"}], {\"title\": \"Mumbai BJP Influence\", \"annotations\": [{\"font\": {\"size\": 15}, \"showarrow\": false, \"text\": \"Before\", \"x\": 0.2, \"y\": 0.5}, {\"font\": {\"size\": 15}, \"showarrow\": false, \"text\": \"After\", \"x\": 0.8, \"y\": 0.5}]}, {\"showLink\": false, \"linkText\": \"Export to plot.ly\"})</script>\n"
     ]
    }
   ],
   "source": [
    "for metro in before_bjp_pie['Metro'].unique():\n",
    "    fig = {\n",
    "  \"data\": [\n",
    "    {\n",
    "      \"values\": list(before_bjp_pie[before_bjp_pie['Metro']==metro].retweets),\n",
    "      \"labels\": [x.capitalize() for x in list(before_bjp_pie[before_bjp_pie['Metro']=='Mumbai'].sentiment)],\n",
    "      \"hoverinfo\":\"label+percent+name\",\n",
    "    \"domain\": {\"x\": [0, .48]},\n",
    "      \"hoverinfo\":\"label+percent+name\",\n",
    "      \"hole\": .4,\n",
    "      \"type\": \"pie\",\n",
    "        \"name\":\"Before\",\n",
    "    },\n",
    "  {\n",
    "      \"values\": list(after_bjp_pie[after_bjp_pie['Metro']=='Mumbai'].retweets),\n",
    "      \"labels\": [x.capitalize() for x in list(after_bjp_pie[after_bjp_pie['Metro']=='Mumbai'].sentiment)],\n",
    "      \"textposition\":\"inside\",\n",
    "      \"domain\": {\"x\": [.52, 1]},\n",
    "      \"hoverinfo\":\"label+percent+name\",\n",
    "      \"hole\": .4,\n",
    "      \"type\": \"pie\",\n",
    "      \"name\": \"After\",\n",
    "    },],\n",
    "  \"layout\": {\n",
    "        \"title\":f\"{metro} BJP Influence\",\n",
    "        \"annotations\": [\n",
    "            {\n",
    "                \"font\": {\n",
    "                    \"size\": 15\n",
    "                },\n",
    "                \"showarrow\": False,\n",
    "                \"text\": \"Before\",\n",
    "                \"x\": 0.20,\n",
    "                \"y\": 0.5\n",
    "            },\n",
    "            {\n",
    "                \"font\": {\n",
    "                    \"size\": 15\n",
    "                },\n",
    "                \"showarrow\": False,\n",
    "                \"text\": \"After\",\n",
    "                \"x\": 0.80,\n",
    "                \"y\": 0.5\n",
    "            }]\n",
    "}\n",
    "}\n",
    "    print(py.offline.plot(fig, include_plotlyjs=False, output_type='div', show_link=False))\n"
   ]
  },
  {
   "cell_type": "code",
   "execution_count": 71,
   "metadata": {},
   "outputs": [],
   "source": [
    "after_bjp_pie = pd.DataFrame(after_bjp.groupby(['Metro','sentiment']).sum()['retweets'] / after_bjp.groupby(['Metro']).sum()['retweets'] ) * 100\n",
    "after_bjp_pie = after_bjp_pie.reset_index()\n",
    "after_bjp_pie.to_csv('after_bjp_pie.csv', index=False)"
   ]
  },
  {
   "cell_type": "code",
   "execution_count": 75,
   "metadata": {},
   "outputs": [],
   "source": [
    "after_ncp_pie = pd.DataFrame(after_ncp.groupby(['Metro','sentiment']).sum()['retweets'] / after_ncp.groupby(['Metro']).sum()['retweets'] ) * 100\n",
    "after_ncp_pie = after_ncp_pie.reset_index()\n",
    "after_ncp_pie.to_csv('after_ncp_pie.csv', index=False)"
   ]
  },
  {
   "cell_type": "code",
   "execution_count": 76,
   "metadata": {},
   "outputs": [],
   "source": [
    "before_ncp_pie = pd.DataFrame(before_ncp.groupby(['Metro','sentiment']).sum()['retweets'] / before_ncp.groupby(['Metro']).sum()['retweets'] ) * 100\n",
    "before_ncp_pie = before_ncp_pie.reset_index()\n",
    "before_ncp_pie.to_csv('before_ncp_pie.csv', index=False)"
   ]
  },
  {
   "cell_type": "code",
   "execution_count": 77,
   "metadata": {},
   "outputs": [
    {
     "name": "stdout",
     "output_type": "stream",
     "text": [
      "<div id=\"5cf025fe-769a-4686-a0b0-8734ebf5ae89\" style=\"height: 100%; width: 100%;\" class=\"plotly-graph-div\"></div><script type=\"text/javascript\">window.PLOTLYENV=window.PLOTLYENV || {};window.PLOTLYENV.BASE_URL=\"https://plot.ly\";Plotly.newPlot(\"5cf025fe-769a-4686-a0b0-8734ebf5ae89\", [{\"values\": [3.512248859284131, 86.85345267247496, 9.634298468240914], \"labels\": [\"Negative\", \"Neutral\", \"Positive\"], \"hoverinfo\": \"label+percent+name\", \"domain\": {\"x\": [0, 0.48]}, \"hole\": 0.4, \"type\": \"pie\", \"name\": \"Before\"}, {\"values\": [9.78143104632098, 76.30702768214283, 13.91154127153619], \"labels\": [\"Negative\", \"Neutral\", \"Positive\"], \"textposition\": \"inside\", \"domain\": {\"x\": [0.52, 1]}, \"hoverinfo\": \"label+percent+name\", \"hole\": 0.4, \"type\": \"pie\", \"name\": \"After\"}], {\"title\": \"Bengaluru NCP Influence\", \"annotations\": [{\"font\": {\"size\": 15}, \"showarrow\": false, \"text\": \"Before\", \"x\": 0.2, \"y\": 0.5}, {\"font\": {\"size\": 15}, \"showarrow\": false, \"text\": \"After\", \"x\": 0.8, \"y\": 0.5}]}, {\"showLink\": false, \"linkText\": \"Export to plot.ly\"})</script>\n",
      "<div id=\"a141045e-7e86-447c-bf98-ae74abb81145\" style=\"height: 100%; width: 100%;\" class=\"plotly-graph-div\"></div><script type=\"text/javascript\">window.PLOTLYENV=window.PLOTLYENV || {};window.PLOTLYENV.BASE_URL=\"https://plot.ly\";Plotly.newPlot(\"a141045e-7e86-447c-bf98-ae74abb81145\", [{\"values\": [10.588295817529616, 70.66861221925504, 18.74309196321534], \"labels\": [\"Negative\", \"Neutral\", \"Positive\"], \"hoverinfo\": \"label+percent+name\", \"domain\": {\"x\": [0, 0.48]}, \"hole\": 0.4, \"type\": \"pie\", \"name\": \"Before\"}, {\"values\": [9.78143104632098, 76.30702768214283, 13.91154127153619], \"labels\": [\"Negative\", \"Neutral\", \"Positive\"], \"textposition\": \"inside\", \"domain\": {\"x\": [0.52, 1]}, \"hoverinfo\": \"label+percent+name\", \"hole\": 0.4, \"type\": \"pie\", \"name\": \"After\"}], {\"title\": \"Delhi NCP Influence\", \"annotations\": [{\"font\": {\"size\": 15}, \"showarrow\": false, \"text\": \"Before\", \"x\": 0.2, \"y\": 0.5}, {\"font\": {\"size\": 15}, \"showarrow\": false, \"text\": \"After\", \"x\": 0.8, \"y\": 0.5}]}, {\"showLink\": false, \"linkText\": \"Export to plot.ly\"})</script>\n",
      "<div id=\"c62d694e-fd0c-4032-b564-53c17e3d208b\" style=\"height: 100%; width: 100%;\" class=\"plotly-graph-div\"></div><script type=\"text/javascript\">window.PLOTLYENV=window.PLOTLYENV || {};window.PLOTLYENV.BASE_URL=\"https://plot.ly\";Plotly.newPlot(\"c62d694e-fd0c-4032-b564-53c17e3d208b\", [{\"values\": [8.217665599998464, 80.52164011517328, 11.260694284828253], \"labels\": [\"Negative\", \"Neutral\", \"Positive\"], \"hoverinfo\": \"label+percent+name\", \"domain\": {\"x\": [0, 0.48]}, \"hole\": 0.4, \"type\": \"pie\", \"name\": \"Before\"}, {\"values\": [9.78143104632098, 76.30702768214283, 13.91154127153619], \"labels\": [\"Negative\", \"Neutral\", \"Positive\"], \"textposition\": \"inside\", \"domain\": {\"x\": [0.52, 1]}, \"hoverinfo\": \"label+percent+name\", \"hole\": 0.4, \"type\": \"pie\", \"name\": \"After\"}], {\"title\": \"Hyderabad NCP Influence\", \"annotations\": [{\"font\": {\"size\": 15}, \"showarrow\": false, \"text\": \"Before\", \"x\": 0.2, \"y\": 0.5}, {\"font\": {\"size\": 15}, \"showarrow\": false, \"text\": \"After\", \"x\": 0.8, \"y\": 0.5}]}, {\"showLink\": false, \"linkText\": \"Export to plot.ly\"})</script>\n",
      "<div id=\"745d0a56-b7c3-445f-820a-8e8dc7174fe2\" style=\"height: 100%; width: 100%;\" class=\"plotly-graph-div\"></div><script type=\"text/javascript\">window.PLOTLYENV=window.PLOTLYENV || {};window.PLOTLYENV.BASE_URL=\"https://plot.ly\";Plotly.newPlot(\"745d0a56-b7c3-445f-820a-8e8dc7174fe2\", [{\"values\": [3.8852035441893875, 82.58371711980578, 13.531079336004828], \"labels\": [\"Negative\", \"Neutral\", \"Positive\"], \"hoverinfo\": \"label+percent+name\", \"domain\": {\"x\": [0, 0.48]}, \"hole\": 0.4, \"type\": \"pie\", \"name\": \"Before\"}, {\"values\": [9.78143104632098, 76.30702768214283, 13.91154127153619], \"labels\": [\"Negative\", \"Neutral\", \"Positive\"], \"textposition\": \"inside\", \"domain\": {\"x\": [0.52, 1]}, \"hoverinfo\": \"label+percent+name\", \"hole\": 0.4, \"type\": \"pie\", \"name\": \"After\"}], {\"title\": \"Kolkata NCP Influence\", \"annotations\": [{\"font\": {\"size\": 15}, \"showarrow\": false, \"text\": \"Before\", \"x\": 0.2, \"y\": 0.5}, {\"font\": {\"size\": 15}, \"showarrow\": false, \"text\": \"After\", \"x\": 0.8, \"y\": 0.5}]}, {\"showLink\": false, \"linkText\": \"Export to plot.ly\"})</script>\n",
      "<div id=\"18a5ef6a-3a93-47a7-a76f-54929ffd3a55\" style=\"height: 100%; width: 100%;\" class=\"plotly-graph-div\"></div><script type=\"text/javascript\">window.PLOTLYENV=window.PLOTLYENV || {};window.PLOTLYENV.BASE_URL=\"https://plot.ly\";Plotly.newPlot(\"18a5ef6a-3a93-47a7-a76f-54929ffd3a55\", [{\"values\": [8.405824112936273, 72.59292977444525, 19.00124611261847], \"labels\": [\"Negative\", \"Neutral\", \"Positive\"], \"hoverinfo\": \"label+percent+name\", \"domain\": {\"x\": [0, 0.48]}, \"hole\": 0.4, \"type\": \"pie\", \"name\": \"Before\"}, {\"values\": [9.78143104632098, 76.30702768214283, 13.91154127153619], \"labels\": [\"Negative\", \"Neutral\", \"Positive\"], \"textposition\": \"inside\", \"domain\": {\"x\": [0.52, 1]}, \"hoverinfo\": \"label+percent+name\", \"hole\": 0.4, \"type\": \"pie\", \"name\": \"After\"}], {\"title\": \"Mumbai NCP Influence\", \"annotations\": [{\"font\": {\"size\": 15}, \"showarrow\": false, \"text\": \"Before\", \"x\": 0.2, \"y\": 0.5}, {\"font\": {\"size\": 15}, \"showarrow\": false, \"text\": \"After\", \"x\": 0.8, \"y\": 0.5}]}, {\"showLink\": false, \"linkText\": \"Export to plot.ly\"})</script>\n"
     ]
    }
   ],
   "source": [
    "for metro in before_ncp_pie['Metro'].unique():\n",
    "    fig = {\n",
    "  \"data\": [\n",
    "    {\n",
    "      \"values\": list(before_ncp_pie[before_ncp_pie['Metro']==metro].retweets),\n",
    "      \"labels\": [x.capitalize() for x in list(before_ncp_pie[before_ncp_pie['Metro']=='Mumbai'].sentiment)],\n",
    "      \"hoverinfo\":\"label+percent+name\",\n",
    "    \"domain\": {\"x\": [0, .48]},\n",
    "      \"hoverinfo\":\"label+percent+name\",\n",
    "      \"hole\": .4,\n",
    "      \"type\": \"pie\",\n",
    "        \"name\":\"Before\",\n",
    "    },\n",
    "  {\n",
    "      \"values\": list(after_ncp_pie[after_ncp_pie['Metro']=='Mumbai'].retweets),\n",
    "      \"labels\": [x.capitalize() for x in list(after_ncp_pie[after_ncp_pie['Metro']=='Mumbai'].sentiment)],\n",
    "      \"textposition\":\"inside\",\n",
    "      \"domain\": {\"x\": [.52, 1]},\n",
    "      \"hoverinfo\":\"label+percent+name\",\n",
    "      \"hole\": .4,\n",
    "      \"type\": \"pie\",\n",
    "      \"name\": \"After\",\n",
    "    },],\n",
    "  \"layout\": {\n",
    "        \"title\":f\"{metro} NCP Influence\",\n",
    "        \"annotations\": [\n",
    "            {\n",
    "                \"font\": {\n",
    "                    \"size\": 15\n",
    "                },\n",
    "                \"showarrow\": False,\n",
    "                \"text\": \"Before\",\n",
    "                \"x\": 0.20,\n",
    "                \"y\": 0.5\n",
    "            },\n",
    "            {\n",
    "                \"font\": {\n",
    "                    \"size\": 15\n",
    "                },\n",
    "                \"showarrow\": False,\n",
    "                \"text\": \"After\",\n",
    "                \"x\": 0.80,\n",
    "                \"y\": 0.5\n",
    "            }]\n",
    "}\n",
    "}\n",
    "    print(py.offline.plot(fig, include_plotlyjs=False, output_type='div', show_link=False))\n"
   ]
  },
  {
   "cell_type": "code",
   "execution_count": null,
   "metadata": {},
   "outputs": [],
   "source": []
  }
 ],
 "metadata": {
  "kernelspec": {
   "display_name": "Python 3",
   "language": "python",
   "name": "python3"
  },
  "language_info": {
   "codemirror_mode": {
    "name": "ipython",
    "version": 3
   },
   "file_extension": ".py",
   "mimetype": "text/x-python",
   "name": "python",
   "nbconvert_exporter": "python",
   "pygments_lexer": "ipython3",
   "version": "3.6.8"
  }
 },
 "nbformat": 4,
 "nbformat_minor": 2
}
